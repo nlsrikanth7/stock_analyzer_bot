{
 "cells": [
  {
   "cell_type": "code",
   "execution_count": 1,
   "metadata": {},
   "outputs": [],
   "source": [
    "import os"
   ]
  },
  {
   "cell_type": "code",
   "execution_count": 3,
   "metadata": {},
   "outputs": [
    {
     "data": {
      "text/plain": [
       "'/Users/shrikanthnallapati/Projects/stock_analyzer_bot/research'"
      ]
     },
     "execution_count": 3,
     "metadata": {},
     "output_type": "execute_result"
    }
   ],
   "source": [
    "%pwd"
   ]
  },
  {
   "cell_type": "code",
   "execution_count": 4,
   "metadata": {},
   "outputs": [],
   "source": [
    "os.chdir('../')"
   ]
  },
  {
   "cell_type": "code",
   "execution_count": 5,
   "metadata": {},
   "outputs": [
    {
     "data": {
      "text/plain": [
       "'/Users/shrikanthnallapati/Projects/stock_analyzer_bot'"
      ]
     },
     "execution_count": 5,
     "metadata": {},
     "output_type": "execute_result"
    }
   ],
   "source": [
    "%pwd"
   ]
  },
  {
   "cell_type": "code",
   "execution_count": 6,
   "metadata": {},
   "outputs": [],
   "source": [
    "import os\n",
    "import time\n",
    "from bs4 import BeautifulSoup\n",
    "import re\n",
    "import requests\n",
    "import warnings \n",
    "\n",
    "import langchain\n",
    "from langchain.llms import OpenAI\n",
    "from langchain.agents import load_tools, AgentType, Tool, initialize_agent\n",
    "\n"
   ]
  },
  {
   "cell_type": "code",
   "execution_count": 15,
   "metadata": {},
   "outputs": [
    {
     "name": "stdout",
     "output_type": "stream",
     "text": [
      "                 Close     Volume\n",
      "Date                             \n",
      "2023-09-14  144.720001   64033600\n",
      "2023-09-15  140.389999  102861700\n",
      "2023-09-18  139.979996   42823500\n",
      "2023-09-19  137.630005   61482500\n",
      "2023-09-20  135.289993   46156500\n"
     ]
    }
   ],
   "source": [
    "# Fetch stock data from Yahoo Finance \n",
    "import yfinance as yf\n",
    "\n",
    "# Fetch stock data from Yahoo Finance\n",
    "\n",
    "def get_stock_price(ticker,history=5):\n",
    "    # time.sleep(4) #To avoid rate limit error\n",
    "    if \".\" in ticker:\n",
    "        ticker=ticker.split(\".\")[0]\n",
    "    ticker=ticker #+\".NS\"\n",
    "    stock = yf.Ticker(ticker)\n",
    "    df = stock.history(period=\"1y\")\n",
    "    df=df[[\"Close\",\"Volume\"]]\n",
    "    df.index=[str(x).split()[0] for x in list(df.index)]\n",
    "    df.index.rename(\"Date\",inplace=True)\n",
    "    df=df[-history:]\n",
    "    # print(df.columns)\n",
    "    \n",
    "    return df.to_string()\n",
    "\n",
    "print(get_stock_price(\"AMZN\"))"
   ]
  },
  {
   "cell_type": "code",
   "execution_count": 16,
   "metadata": {},
   "outputs": [
    {
     "name": "stdout",
     "output_type": "stream",
     "text": [
      "Recent News:\n",
      "\n",
      "0. Microsoft Eyes Apple's Spot as World's Largest Stock\n",
      "1. Microsoft Stock Is Still Cheap Given Its Massive Free Cash Flow\n",
      "2. Buy Microsoft Stock, Analyst Says. AI Will Generate Higher Profits.\n",
      "3. Microsoft Is a Great Dividend Stock and Just Boosted Its Payout\n",
      "\n"
     ]
    }
   ],
   "source": [
    "# Script to scrap top5 googgle news for given company name\n",
    "\n",
    "def google_query(search_term):\n",
    "    if \"news\" not in search_term:\n",
    "        search_term=search_term+\" stock news\"\n",
    "    url=f\"https://www.google.com/search?q={search_term}&cr=countryUS\"\n",
    "    url=re.sub(r\"\\s\",\"+\",url)\n",
    "    return url\n",
    "\n",
    "def get_recent_stock_news(company_name):\n",
    "    # time.sleep(4) #To avoid rate limit error\n",
    "    headers={'User-Agent': 'Mozilla/5.0 (Windows NT 10.0; Win64; x64) AppleWebKit/537.36 (KHTML, like Gecko) Chrome/102.0.0.0 Safari/537.36'}\n",
    "\n",
    "    g_query=google_query(company_name)\n",
    "    res=requests.get(g_query,headers=headers).text\n",
    "    soup=BeautifulSoup(res,\"html.parser\")\n",
    "    news=[]\n",
    "    for n in soup.find_all(\"div\",\"n0jPhd ynAwRc tNxQIb nDgy9d\"):\n",
    "        news.append(n.text)\n",
    "    for n in soup.find_all(\"div\",\"IJl0Z\"):\n",
    "        news.append(n.text)\n",
    "\n",
    "\n",
    "    if len(news)>6:\n",
    "        news=news[:4]\n",
    "    else:\n",
    "        news=news\n",
    "    news_string=\"\"\n",
    "    for i,n in enumerate(news):\n",
    "        news_string+=f\"{i}. {n}\\n\"\n",
    "    top5_news=\"Recent News:\\n\\n\"+news_string\n",
    "    \n",
    "    return top5_news\n",
    "\n",
    "\n",
    "print(get_recent_stock_news(\"Microsoft\"))"
   ]
  },
  {
   "cell_type": "code",
   "execution_count": 22,
   "metadata": {},
   "outputs": [
    {
     "name": "stdout",
     "output_type": "stream",
     "text": [
      "                                                         2022-12-31      2021-12-31      2020-12-31\n",
      "Treasury Shares Number                                  515000000.0     460000000.0     480000000.0\n",
      "Ordinary Shares Number                                10242000000.0   10180000000.0   10060000000.0\n",
      "Share Issued                                          10757000000.0   10640000000.0   10540000000.0\n",
      "Total Debt                                           140118000000.0  116395000000.0   84389000000.0\n",
      "Tangible Book Value                                  125755000000.0  122874000000.0   78387000000.0\n",
      "Invested Capital                                     213193000000.0  186989000000.0  125220000000.0\n",
      "Working Capital                                       -8602000000.0   19314000000.0    6348000000.0\n",
      "Net Tangible Assets                                  125755000000.0  122874000000.0   78387000000.0\n",
      "Capital Lease Obligations                             72968000000.0   67651000000.0   52573000000.0\n",
      "Common Stock Equity                                  146043000000.0  138245000000.0   93404000000.0\n",
      "Total Capitalization                                 213193000000.0  186989000000.0  125220000000.0\n",
      "Total Equity Gross Minority Interest                 146043000000.0  138245000000.0   93404000000.0\n",
      "Stockholders Equity                                  146043000000.0  138245000000.0   93404000000.0\n",
      "Gains Losses Not Affecting Retained Earnings          -4487000000.0   -1376000000.0    -180000000.0\n",
      "Treasury Stock                                         7837000000.0    1837000000.0    1837000000.0\n",
      "Retained Earnings                                     83193000000.0   85915000000.0   52551000000.0\n",
      "Additional Paid In Capital                            75066000000.0   55538000000.0   42865000000.0\n",
      "Capital Stock                                           108000000.0       5000000.0       5000000.0\n",
      "Common Stock                                            108000000.0       5000000.0       5000000.0\n",
      "Total Liabilities Net Minority Interest              316632000000.0  282304000000.0  227791000000.0\n",
      "Total Non Current Liabilities Net Minority Interest  161239000000.0  140038000000.0  101406000000.0\n",
      "Other Non Current Liabilities                         21121000000.0   23643000000.0   17017000000.0\n",
      "Long Term Debt And Capital Lease Obligation          140118000000.0  116395000000.0   84389000000.0\n",
      "Long Term Capital Lease Obligation                    72968000000.0   67651000000.0   52573000000.0\n",
      "Long Term Debt                                        67150000000.0   48744000000.0   31816000000.0\n",
      "Current Liabilities                                  155393000000.0  142266000000.0  126385000000.0\n",
      "Current Deferred Liabilities                          13227000000.0   11827000000.0    9708000000.0\n",
      "Current Deferred Revenue                              13227000000.0   11827000000.0    9708000000.0\n",
      "Payables And Accrued Expenses                        142166000000.0  130439000000.0  116677000000.0\n",
      "Current Accrued Expenses                              62566000000.0   51775000000.0   44138000000.0\n",
      "Payables                                              79600000000.0   78664000000.0   72539000000.0\n",
      "Accounts Payable                                      79600000000.0   78664000000.0   72539000000.0\n",
      "Total Assets                                         462675000000.0  420549000000.0  321195000000.0\n",
      "Total Non Current Assets                             315884000000.0  258969000000.0  188462000000.0\n",
      "Other Non Current Assets                              42758000000.0   27235000000.0   22778000000.0\n",
      "Goodwill And Other Intangible Assets                  20288000000.0   15371000000.0   15017000000.0\n",
      "Goodwill                                              20288000000.0   15371000000.0   15017000000.0\n",
      "Net PPE                                              252838000000.0  216363000000.0  150667000000.0\n",
      "Accumulated Depreciation                             -97015000000.0  -78519000000.0  -60434000000.0\n",
      "Gross PPE                                            252838000000.0  216363000000.0  150667000000.0\n",
      "Construction In Progress                              30020000000.0   24895000000.0   15228000000.0\n",
      "Other Properties                                     252838000000.0  216363000000.0  150667000000.0\n",
      "Land And Improvements                                 91650000000.0   81104000000.0   57324000000.0\n",
      "Properties                                                      0.0             0.0             0.0\n",
      "Current Assets                                       146791000000.0  161580000000.0  132733000000.0\n",
      "Inventory                                             34405000000.0   32640000000.0   23795000000.0\n",
      "Receivables                                           42360000000.0   32891000000.0   24542000000.0\n",
      "Accounts Receivable                                   42360000000.0   32891000000.0   24542000000.0\n",
      "Allowance For Doubtful Accounts Receivable            -1400000000.0   -1000000000.0   -1000000000.0\n",
      "Gross Accounts Receivable                             43760000000.0   33891000000.0   25542000000.0\n",
      "Cash Cash Equivalents And Short Term Investments      70026000000.0   96049000000.0   84396000000.0\n",
      "Other Short Term Investments                          16138000000.0   59829000000.0   42274000000.0\n",
      "Cash And Cash Equivalents                             53888000000.0   36220000000.0   42122000000.0\n"
     ]
    }
   ],
   "source": [
    "# Fetch financial statements from Yahoo Finance\n",
    "\n",
    "def get_financial_statements(ticker):\n",
    "    # time.sleep(4) #To avoid rate limit error\n",
    "    if \".\" in ticker:\n",
    "        ticker=ticker.split(\".\")[0]\n",
    "    else:\n",
    "        ticker=ticker\n",
    "    ticker=ticker # +\".NS\"    \n",
    "    company = yf.Ticker(ticker)\n",
    "    balance_sheet = company.balance_sheet\n",
    "    if balance_sheet.shape[1]>=3:\n",
    "        balance_sheet=balance_sheet.iloc[:,:3]    # Remove 4th years data\n",
    "    balance_sheet=balance_sheet.dropna(how=\"any\")\n",
    "    balance_sheet = balance_sheet.to_string()\n",
    "    \n",
    "    cash_flow = company.cash_flow.to_string()\n",
    "    # print(balance_sheet)\n",
    "    # print(cash_flow)\n",
    "    return balance_sheet\n",
    "    \n",
    "print(get_financial_statements(\"AMZN\"))"
   ]
  },
  {
   "cell_type": "code",
   "execution_count": null,
   "metadata": {},
   "outputs": [],
   "source": []
  }
 ],
 "metadata": {
  "kernelspec": {
   "display_name": "stockbot",
   "language": "python",
   "name": "python3"
  },
  "language_info": {
   "codemirror_mode": {
    "name": "ipython",
    "version": 3
   },
   "file_extension": ".py",
   "mimetype": "text/x-python",
   "name": "python",
   "nbconvert_exporter": "python",
   "pygments_lexer": "ipython3",
   "version": "3.11.1"
  },
  "orig_nbformat": 4
 },
 "nbformat": 4,
 "nbformat_minor": 2
}
